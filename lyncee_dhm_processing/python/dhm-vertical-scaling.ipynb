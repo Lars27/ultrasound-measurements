{
 "cells": [
  {
   "cell_type": "code",
   "execution_count": 26,
   "id": "c3dd7521-b2cf-43bc-abba-e936fcd09c30",
   "metadata": {},
   "outputs": [
    {
     "data": {
      "text/plain": [
       "'Laser 1: 5.37148e-08 m/rad.     Lasers 1 and 2 combined: 1.12595e-06 m/rad '"
      ]
     },
     "execution_count": 26,
     "metadata": {},
     "output_type": "execute_result"
    }
   ],
   "source": [
    "import numpy as np\n",
    "\n",
    "lw= np.zeros(3)\n",
    "\n",
    "lw[0] = 675e-9;                    #  Wavelength of laser 1\n",
    "lw[1] = 794e-9;                    #  Wavelength of laser 2\n",
    "lw[2] = 1/( 1/lw[0] - 1/lw[1] );   #  Synthetic wavelength of lasers 1and 2 combined\n",
    "\n",
    "zmax = lw/4;        # Max. deflection without aliasing: +- half wavelength and 2-way\n",
    "hconv= zmax/np.pi;  # Conversion factor from radians to meters. Phase shift pi is aliasing limit\n",
    "\n",
    "f'Max deflection. Laser 1: {zmax[0]*1e9:.1f} nm.     Lasers 1 and 2 combined: {zmax[2]*1e9:.2f} nm' \n",
    "\n",
    "f'Conversion factor radians to meter'\n",
    "f'Laser 1: {hconv[0]:.5e} m/rad.     Lasers 1 and 2 combined: {zmax[2]:.5e} m/rad '\n",
    "\n"
   ]
  },
  {
   "cell_type": "code",
   "execution_count": null,
   "id": "2e06eedf-b1c1-49b2-bf18-4c1fa65be5f8",
   "metadata": {},
   "outputs": [],
   "source": []
  },
  {
   "cell_type": "code",
   "execution_count": null,
   "id": "aa5deaf9-010e-423a-9b05-f3a951860e23",
   "metadata": {},
   "outputs": [],
   "source": []
  },
  {
   "cell_type": "code",
   "execution_count": null,
   "id": "4ab34d88-af03-44dd-bfe5-5262cdb6dac8",
   "metadata": {},
   "outputs": [],
   "source": []
  },
  {
   "cell_type": "code",
   "execution_count": null,
   "id": "7f47839e-520e-4933-a25a-aa58b8a5da69",
   "metadata": {},
   "outputs": [],
   "source": []
  },
  {
   "cell_type": "code",
   "execution_count": null,
   "id": "c7a2cd18-5dcc-4a06-92d9-53539134c7a8",
   "metadata": {},
   "outputs": [],
   "source": []
  },
  {
   "cell_type": "code",
   "execution_count": null,
   "id": "78da135e-6516-44f8-bb81-ebfad215a5d5",
   "metadata": {},
   "outputs": [],
   "source": []
  }
 ],
 "metadata": {
  "kernelspec": {
   "display_name": "Python 3 (ipykernel)",
   "language": "python",
   "name": "python3"
  },
  "language_info": {
   "codemirror_mode": {
    "name": "ipython",
    "version": 3
   },
   "file_extension": ".py",
   "mimetype": "text/x-python",
   "name": "python",
   "nbconvert_exporter": "python",
   "pygments_lexer": "ipython3",
   "version": "3.9.13"
  }
 },
 "nbformat": 4,
 "nbformat_minor": 5
}
